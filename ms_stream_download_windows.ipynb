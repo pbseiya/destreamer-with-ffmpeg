{
 "cells": [
  {
   "cell_type": "code",
   "execution_count": 1,
   "metadata": {},
   "outputs": [
    {
     "name": "stdout",
     "output_type": "stream",
     "text": [
      "n:\\OneDrive - IRPC\\DS\\AiML_Projects\\ms_stream_scrapping\\destreamer_with_ffmpeg\n",
      "8f2e3982-b0f4-4c45-8714-4073798c540f\n",
      "3b0c2a39-6416-4089-b7e5-4862d453cdc0\n",
      "91ed0e8c-1716-4df0-b1ed-49cbed5407c5\n",
      "4bd5dbca-5cb1-4196-ba53-4ec2ded46a5c\n",
      "769d527c-79e8-4ee0-bfd6-613d6f7dd6c3\n",
      "b83067b9-1c4d-46f6-b288-66c02517ea19\n",
      "8366ec4c-65b0-48fd-9ff6-72f2e139f9f9\n",
      "8af449d3-d808-4dfd-a1e6-7898bcbd89ba\n",
      "b4073ad4-fc72-4283-a78c-86c3126f1221\n",
      "e619f2c6-d430-49f7-bf5d-8e971bbe6876\n",
      "1ec10691-9f46-46c6-a5e2-8f252e07af8a\n",
      "74c60658-1848-4e03-9601-982bb984ed6b\n",
      "deb456d7-0e21-430d-b7af-9da0f4e4121e\n",
      "97c2936e-79e5-4bf3-8656-af188b4136c6\n",
      "a796fa48-d3f4-4ee8-b7e3-b6c0854496ad\n",
      "9dc53863-b41e-47bb-a70c-bd81197a5bd4\n"
     ]
    }
   ],
   "source": [
    "import requests, os, subprocess, shutil\n",
    "print(os.getcwd())\n",
    "if os.path.exists('url.txt'): os.remove('url.txt')\n",
    "# Find video files in ms-stream content or channels\n",
    "url = f\"https://aase-1.api.microsoftstream.com/api/channels/9194d554-9ee0-41a4-a4ca-7504c1cd8775/videos?$top=16&$skip=0&$filter=published%20and%20(state%20eq%20%27completed%27%20or%20contentSource%20eq%20%27livestream%27)&$expand=creator,events&$orderby=metrics%2FtrendingScore%20desc&api-version=1.4-private\"\n",
    "token = 'Bearer eyJ0eXAiOiJKV1QiLCJhbGciOiJSUzI1NiIsIng1dCI6Ii1LSTNROW5OUjdiUm9meG1lWm9YcWJIWkdldyIsImtpZCI6Ii1LSTNROW5OUjdiUm9meG1lWm9YcWJIWkdldyJ9.eyJhdWQiOiJodHRwczovLyoubWljcm9zb2Z0c3RyZWFtLmNvbSIsImlzcyI6Imh0dHBzOi8vc3RzLndpbmRvd3MubmV0LzBiMDNiNzQwLTk5ZWItNDBlNy05NDdhLTE0ZGFkYmVjNTM0Zi8iLCJpYXQiOjE2OTU5OTIzMDYsIm5iZiI6MTY5NTk5MjMwNiwiZXhwIjoxNjk1OTk3MjAwLCJhY3IiOiIxIiwiYWlvIjoiQVZRQXEvOFVBQUFBVkRodUZhUldCb0FnelcvUm44NGt2cVJqOVg3TWlGSExnK3ZoMVlKNGNsYUNBV29zQVhQZGpmTDAxRm9vUmJXQTZrR2NPT2RtK3F2bERZT0xocXFObkZOSzNmTjRQaUhIVFRkMFBLUFIyQkE9IiwiYW1yIjpbInB3ZCIsIm1mYSJdLCJhcHBpZCI6ImNmNTNmY2U4LWRlZjYtNGFlYi04ZDMwLWIxNThlN2IxY2Y4MyIsImFwcGlkYWNyIjoiMiIsImZhbWlseV9uYW1lIjoiQm9vbnBhbGl0IiwiZ2l2ZW5fbmFtZSI6IlBvbmdzYWsiLCJpcGFkZHIiOiI0OS4yMjguNTkuMjMzIiwibmFtZSI6IlBvbmdzYWsgQm9vbnBhbGl0Iiwib2lkIjoiYjE1MjFiYjItYjZmZi00YzhiLWI5YWEtNzIyOTMxZDA0ODg0Iiwib25wcmVtX3NpZCI6IlMtMS01LTIxLTM4MDgxNDA2NjktMjA1MjEwNjA3NS0xMDY4MDY3ODMzLTE5ODQxIiwicHVpZCI6IjEwMDMwMDAwQUM3REQzRTYiLCJyaCI6IjAuQVhJQVFMY0RDLXVaNTBDVWVoVGEyLXhUVHlQZE5DWmFYaHhEZ2NvUmNRMlFlZlJ5QUN3LiIsInNjcCI6ImFjY2Vzc19taWNyb3NvZnRzdHJlYW1fc2VydmljZSIsInN1YiI6Ik1OX3N5anJSX0l1dWlvOFFFX0Y5NktLSzFPZnpUY19zNnphZXo4enlSUjgiLCJ0aWQiOiIwYjAzYjc0MC05OWViLTQwZTctOTQ3YS0xNGRhZGJlYzUzNGYiLCJ1bmlxdWVfbmFtZSI6InBvbmdzYWsuYkBpcnBjLmNvLnRoIiwidXBuIjoicG9uZ3Nhay5iQGlycGMuY28udGgiLCJ1dGkiOiItLXd5UEtWUDcwdWtiS1ZHeVNoaUFBIiwidmVyIjoiMS4wIn0.OFUMqEINZVOb0W93-cfidUvZYKZ9jWqr4P6mVprxVOSlOl2aQpl0bZEyF8xMiFrZEthAMW4QDVTLtQD2aPn3cOtpZMi9Dm95rzxVUuQfrwJz8LPHw5HfDtvp0BrRBpYQVa8rNmxYN9W1tEX-kdPOXijzdfW4sBAodfDZUMeqfNV7SVEsrgqt8ak3Tu3odw9mu0o5jsnbNG_vt3H8_yuBrg2YHfFnDpU4MZsLAsFv_KZiP0Rzl0QADVZPujbCxBaXeCv4NueshSff5vK1GbA0VIvnOog4Kj5lSH9p33gBUqEJAQO-lkvf3fEDoBYVlRf8fQVQ7MW4qeZbB5F6pqyMbA'\n",
    "r = requests.get(url, headers={'Authorization': token})\n",
    "data = r.json()\n",
    "for video in data['value']:\n",
    "    id = video['id']\n",
    "    print(id)\n",
    "    video_url=f\"https://web.microsoftstream.com/video/{id}\\n\"\n",
    "    with open('url.txt', 'a') as f:\n",
    "        f.write(video_url)\n",
    "\n"
   ]
  },
  {
   "cell_type": "code",
   "execution_count": 2,
   "metadata": {},
   "outputs": [],
   "source": [
    "subprocess.run('destreamer.cmd -f url.txt -o \"super_ai_engineer\"')"
   ]
  }
 ],
 "metadata": {
  "kernelspec": {
   "display_name": "base",
   "language": "python",
   "name": "python3"
  },
  "language_info": {
   "codemirror_mode": {
    "name": "ipython",
    "version": 3
   },
   "file_extension": ".py",
   "mimetype": "text/x-python",
   "name": "python",
   "nbconvert_exporter": "python",
   "pygments_lexer": "ipython3",
   "version": "3.9.13"
  },
  "orig_nbformat": 4
 },
 "nbformat": 4,
 "nbformat_minor": 2
}
