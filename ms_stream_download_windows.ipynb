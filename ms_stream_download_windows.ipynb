{
 "cells": [
  {
   "cell_type": "code",
   "execution_count": 2,
   "metadata": {},
   "outputs": [
    {
     "name": "stdout",
     "output_type": "stream",
     "text": [
      "n:\\OneDrive - IRPC\\DS\\AiML_Projects\\ms_stream_scrapping\\ms_stream_multiple_download\n",
      "f2b70854-602e-4770-a947-06b04f5e4cea\n",
      "f92418d9-5172-4564-9401-26cebb7e6b1c\n",
      "efc30c6d-2a0a-4ac7-9992-3d6ee74354bf\n",
      "5c9cf877-d5ae-4aeb-a0cb-41dbb0858d69\n",
      "21bacb26-5c21-479e-9379-44d4f2d0383d\n",
      "dd536789-3193-4a0b-9372-5de4387a1e65\n",
      "1a825cfb-f263-42db-91f9-63a8347e5c43\n",
      "a6dae0bb-a178-40d0-93dd-80aa32014dcb\n",
      "6a566202-3087-4424-9df6-8203b4ee83d3\n",
      "cef69bc1-0cc7-4a92-bcec-8b8ea04d35a0\n",
      "0e683dbf-9390-4c68-a90c-ace00ec600b1\n",
      "c1112fec-56ea-46da-86c3-af244a25d0a0\n",
      "7f55d609-dfb8-4392-b15b-e771e509c290\n",
      "7137c311-d975-4412-a8d6-f24187fb517a\n"
     ]
    }
   ],
   "source": [
    "import requests, os, subprocess, shutil\n",
    "print(os.getcwd())\n",
    "if os.path.exists('url.txt'): os.remove('url.txt')\n",
    "# Find video files in ms-stream content or channels\n",
    "url = f\"https://aase-1.api.microsoftstream.com/api/channels/40cfc44c-803a-4883-80bb-fa5dacf768ed/videos?$top=16&$skip=0&$filter=published%20and%20(state%20eq%20%27completed%27%20or%20contentSource%20eq%20%27livestream%27)&$expand=creator,events&$orderby=metrics%2FtrendingScore%20desc&api-version=1.4-private\"\n",
    "token = 'Bearer eyJ0eXAiOiJKV1QiLCJhbGciOiJSUzI1NiIsIng1dCI6Ii1LSTNROW5OUjdiUm9meG1lWm9YcWJIWkdldyIsImtpZCI6Ii1LSTNROW5OUjdiUm9meG1lWm9YcWJIWkdldyJ9.eyJhdWQiOiJodHRwczovLyoubWljcm9zb2Z0c3RyZWFtLmNvbSIsImlzcyI6Imh0dHBzOi8vc3RzLndpbmRvd3MubmV0LzBiMDNiNzQwLTk5ZWItNDBlNy05NDdhLTE0ZGFkYmVjNTM0Zi8iLCJpYXQiOjE2OTU5ODU5MzgsIm5iZiI6MTY5NTk4NTkzOCwiZXhwIjoxNjk1OTkwMjk5LCJhY3IiOiIxIiwiYWlvIjoiQVZRQXEvOFVBQUFBNEgxVXV2Y0xxOFdXeUZnQnhWYXNwN0xaRnZWbEtkK0wvb1A5eWpiVHYzeHVUYVI1WVRneFJIZk9WMjcwNjNUcEZWSWx5M2tvdXRKQU1XUStGM1dUbkpheEFTeTFZYlhCdUlwRjJrSVE0M2c9IiwiYW1yIjpbInB3ZCIsIm1mYSJdLCJhcHBpZCI6ImNmNTNmY2U4LWRlZjYtNGFlYi04ZDMwLWIxNThlN2IxY2Y4MyIsImFwcGlkYWNyIjoiMiIsImZhbWlseV9uYW1lIjoiQm9vbnBhbGl0IiwiZ2l2ZW5fbmFtZSI6IlBvbmdzYWsiLCJpcGFkZHIiOiI0OS4yMjguNTkuMjMzIiwibmFtZSI6IlBvbmdzYWsgQm9vbnBhbGl0Iiwib2lkIjoiYjE1MjFiYjItYjZmZi00YzhiLWI5YWEtNzIyOTMxZDA0ODg0Iiwib25wcmVtX3NpZCI6IlMtMS01LTIxLTM4MDgxNDA2NjktMjA1MjEwNjA3NS0xMDY4MDY3ODMzLTE5ODQxIiwicHVpZCI6IjEwMDMwMDAwQUM3REQzRTYiLCJyaCI6IjAuQVhJQVFMY0RDLXVaNTBDVWVoVGEyLXhUVHlQZE5DWmFYaHhEZ2NvUmNRMlFlZlJ5QUN3LiIsInNjcCI6ImFjY2Vzc19taWNyb3NvZnRzdHJlYW1fc2VydmljZSIsInN1YiI6Ik1OX3N5anJSX0l1dWlvOFFFX0Y5NktLSzFPZnpUY19zNnphZXo4enlSUjgiLCJ0aWQiOiIwYjAzYjc0MC05OWViLTQwZTctOTQ3YS0xNGRhZGJlYzUzNGYiLCJ1bmlxdWVfbmFtZSI6InBvbmdzYWsuYkBpcnBjLmNvLnRoIiwidXBuIjoicG9uZ3Nhay5iQGlycGMuY28udGgiLCJ1dGkiOiJqdndqYWxiX2tFYWlKT3RrZEV4S0FBIiwidmVyIjoiMS4wIn0.mFF88_pE2GbCDrbNaFolXfgFTHP2t5cnCInl_kMucFkmkXRnKh4_tvplErWYSitmwryO1386nkn_Q6FzatEUxC2DmTmeZPiMpLeMkIfqQZk8jS_4_yiFkRvsy15ptgkwAcDq7Thl5o5iwwHrSfjYw-eLHfZAKTuYtom1HCtdfl_t-8YhGajkVRkJxmcF3b-ktBIsmXH-BZwmyVf2SkqfACSdsDsvw4Xib3UdELHvlzJMEL-P7nj1GoFFZrUcfAzQRPMhf9LkGLNh23YYR59Y51MxON7ZdvTaPfZx9DjyfSB32C5r4Y6kmRCfG_6YKWoyuZH6P26ZHiBuypX8wcEXPQ'\n",
    "r = requests.get(url, headers={'Authorization': token})\n",
    "data = r.json()\n",
    "for video in data['value']:\n",
    "    id = video['id']\n",
    "    print(id)\n",
    "    video_url=f\"https://web.microsoftstream.com/video/{id}\\n\"\n",
    "    with open('url.txt', 'a') as f:\n",
    "        f.write(video_url)\n",
    "\n"
   ]
  },
  {
   "cell_type": "code",
   "execution_count": 3,
   "metadata": {},
   "outputs": [],
   "source": [
    "src = 'N:/OneDrive - IRPC/DS/AiML_Projects/ms_stream_scrapping/ms_stream_multiple_download'\n",
    "dst = 'N:/OneDrive - IRPC/DS/AiML_Projects/ms_stream_scrapping/destreamer'"
   ]
  },
  {
   "cell_type": "code",
   "execution_count": 14,
   "metadata": {},
   "outputs": [
    {
     "data": {
      "text/plain": [
       "'N:/OneDrive - IRPC/DS/AiML_Projects/ms_stream_scrapping/destreamer\\\\url.txt'"
      ]
     },
     "execution_count": 14,
     "metadata": {},
     "output_type": "execute_result"
    }
   ],
   "source": [
    "shutil.copy(os.path.join(src,'url.txt'), os.path.join(dst,'url.txt'))"
   ]
  },
  {
   "cell_type": "code",
   "execution_count": 7,
   "metadata": {},
   "outputs": [],
   "source": [
    "os.chdir('N:/OneDrive - IRPC/DS/AiML_Projects/ms_stream_scrapping/destreamer')"
   ]
  },
  {
   "cell_type": "code",
   "execution_count": 8,
   "metadata": {},
   "outputs": [
    {
     "data": {
      "text/plain": [
       "CompletedProcess(args='destreamer.cmd -f url.txt', returncode=0)"
      ]
     },
     "execution_count": 8,
     "metadata": {},
     "output_type": "execute_result"
    }
   ],
   "source": [
    "subprocess.run('destreamer.cmd -f url.txt')"
   ]
  },
  {
   "cell_type": "code",
   "execution_count": 6,
   "metadata": {},
   "outputs": [
    {
     "data": {
      "text/plain": [
       "CompletedProcess(args='N:/OneDrive - IRPC/DS/AiML_Projects/ms_stream_scrapping/destreamer/destreamer.cmd -f url.txt', returncode=0)"
      ]
     },
     "execution_count": 6,
     "metadata": {},
     "output_type": "execute_result"
    }
   ],
   "source": [
    "subprocess.run(dst+'/destreamer.cmd -f url.txt')"
   ]
  },
  {
   "cell_type": "code",
   "execution_count": 5,
   "metadata": {},
   "outputs": [
    {
     "data": {
      "text/plain": [
       "CompletedProcess(args='N:/OneDrive - IRPC/DS/AiML_Projects/ms_stream_scrapping/destreamer\\\\destreamer.cmd -f url.txt', returncode=0)"
      ]
     },
     "execution_count": 5,
     "metadata": {},
     "output_type": "execute_result"
    }
   ],
   "source": [
    "subprocess.run(os.path.join(dst,'destreamer.cmd -f url.txt'))"
   ]
  }
 ],
 "metadata": {
  "kernelspec": {
   "display_name": "base",
   "language": "python",
   "name": "python3"
  },
  "language_info": {
   "codemirror_mode": {
    "name": "ipython",
    "version": 3
   },
   "file_extension": ".py",
   "mimetype": "text/x-python",
   "name": "python",
   "nbconvert_exporter": "python",
   "pygments_lexer": "ipython3",
   "version": "3.9.13"
  },
  "orig_nbformat": 4
 },
 "nbformat": 4,
 "nbformat_minor": 2
}
