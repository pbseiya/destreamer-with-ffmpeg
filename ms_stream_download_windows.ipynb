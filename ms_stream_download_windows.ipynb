{
 "cells": [
  {
   "cell_type": "code",
   "execution_count": 1,
   "metadata": {},
   "outputs": [
    {
     "name": "stdout",
     "output_type": "stream",
     "text": [
      "n:\\OneDrive - IRPC\\DS\\AiML_Projects\\ms_stream_scrapping\\destreamer_with_ffmpeg\n",
      "f2b70854-602e-4770-a947-06b04f5e4cea\n",
      "f92418d9-5172-4564-9401-26cebb7e6b1c\n",
      "efc30c6d-2a0a-4ac7-9992-3d6ee74354bf\n",
      "5c9cf877-d5ae-4aeb-a0cb-41dbb0858d69\n",
      "21bacb26-5c21-479e-9379-44d4f2d0383d\n",
      "dd536789-3193-4a0b-9372-5de4387a1e65\n",
      "1a825cfb-f263-42db-91f9-63a8347e5c43\n",
      "a6dae0bb-a178-40d0-93dd-80aa32014dcb\n",
      "6a566202-3087-4424-9df6-8203b4ee83d3\n",
      "cef69bc1-0cc7-4a92-bcec-8b8ea04d35a0\n",
      "0e683dbf-9390-4c68-a90c-ace00ec600b1\n",
      "c1112fec-56ea-46da-86c3-af244a25d0a0\n",
      "7f55d609-dfb8-4392-b15b-e771e509c290\n",
      "7137c311-d975-4412-a8d6-f24187fb517a\n"
     ]
    }
   ],
   "source": [
    "import requests, os, subprocess, shutil\n",
    "print(os.getcwd())\n",
    "if os.path.exists('url.txt'): os.remove('url.txt')\n",
    "# Find video files in ms-stream content or channels\n",
    "url = f\"https://aase-1.api.microsoftstream.com/api/channels/40cfc44c-803a-4883-80bb-fa5dacf768ed/videos?$top=16&$skip=0&$filter=published%20and%20(staream%27)&$expand=creator,events&$orderby=metrics%2FtrendingScore%20desc&api-version=1.4-private\"\n",
    "token = 'Bearer eyJ0eXAiOiJKV1QiLCJhbGciOiJSUzI1NiIsIng1dCI6Ii1LSTNROW5OUjdinmcQzTnKzPaupcnUURirtohxacOKmf32FUP5j3CDYWg255HBMgKctA7LO0zvBfKXsrJf9NQTKwv5loLUBy0g6xIXnlwhNRvxolXpSU6CaKIX0_nS6-3AF8xTdYxh2HhfV7jHmiKlWihUJufQ-d3Xy4JFqxKW1n5W3IAl6bj9nyf0XrKVh43mNJz7Fx2tK_lA1wHP_dCkOIQ'\n",
    "r = requests.get(url, headers={'Authorization': token})\n",
    "data = r.json()\n",
    "for video in data['value']:\n",
    "    id = video['id']\n",
    "    print(id)\n",
    "    video_url=f\"https://web.microsoftstream.com/video/{id}\\n\"\n",
    "    with open('url.txt', 'a') as f:\n",
    "        f.write(video_url)\n",
    "\n"
   ]
  },
  {
   "cell_type": "code",
   "execution_count": 2,
   "metadata": {},
   "outputs": [],
   "source": [
    "subprocess.run('destreamer.cmd -f url.txt -o \"videos/numpy\" --skip --format mp4')"
   ]
  }
 ],
 "metadata": {
  "kernelspec": {
   "display_name": "base",
   "language": "python",
   "name": "python3"
  },
  "language_info": {
   "codemirror_mode": {
    "name": "ipython",
    "version": 3
   },
   "file_extension": ".py",
   "mimetype": "text/x-python",
   "name": "python",
   "nbconvert_exporter": "python",
   "pygments_lexer": "ipython3",
   "version": "3.9.13"
  },
  "orig_nbformat": 4
 },
 "nbformat": 4,
 "nbformat_minor": 2
}
